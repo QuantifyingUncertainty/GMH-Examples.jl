{
 "cells": [
  {
   "cell_type": "markdown",
   "metadata": {},
   "source": [
    "This is an example script for the PhotoReceptor model. Please run each cell in sequence. \n",
    "\n",
    "Warnings about \"replacing module\" when exectuing the first cell can be ignored.\n",
    "\n",
    "If you want to change how many iterations are run, you can do so in the second cell.\n",
    "- nproposals: number of proposals evaluated in parallel in the Generalized Metropolis Hastings algorithm\n",
    "- niterations: number of total iterations\n",
    "\n",
    "The values given below (1000 proposals for 100 iterations) will take about 2.5 minutes to run on an 8-core machine.\n",
    "\n",
    "Remember that you can remove output from the cells by selecting \"Cell/All Output/Clear\". And if the Kernel hangs for some reason, then you can choose \"Kernel/Restart\" from the menu."
   ]
  },
  {
   "cell_type": "code",
   "execution_count": null,
   "metadata": {
    "collapsed": false
   },
   "outputs": [],
   "source": [
    "###You will need to run this cell only once, unless some workers crash and shut down\n",
    "NPROCS = 16 #make this the number of processors on your machine. For JuliaBox, it is 16\n",
    "if nprocs() < NPROCS\n",
    "    addprocs(NPROCS-nprocs())\n",
    "end\n",
    "println(\"Number of parallel processes: \",nprocs())\n",
    "\n",
    "###Load the GMHExamples package on all processes\n",
    "@everywhere include(\"../../GMH-Examples.jl\")\n",
    "\n",
    "###Load the PyPlot package\n",
    "using PyPlot\n",
    "println(\"PyPlot package loaded successfully\")"
   ]
  },
  {
   "cell_type": "code",
   "execution_count": null,
   "metadata": {
    "collapsed": false
   },
   "outputs": [],
   "source": [
    "println(\"Number of parallel processes running: \",nprocs())\n",
    "\n",
    "using GeneralizedMetropolisHastings\n",
    "using GMHExamples\n",
    "\n",
    "println(\"================================\")\n",
    "println(\"Initialize Simulation Parameters\")\n",
    "println(\"================================\")\n",
    "\n",
    "#Standard M-H for nproposals == 1\n",
    "#Generalized M-H for nproposals > 1\n",
    "nproposals = 1000\n",
    "\n",
    "#MCMC iteration specifications\n",
    "nburnin = 0\n",
    "niterations = 100\n",
    "ntunerperiod = 5\n",
    "\n",
    "###Values of the model\n",
    "numvilli1 = 30000\n",
    "\n",
    "#specify the values that determine the priors on the parameters\n",
    "latencylocation = (2.0,3.5) #uniform distribution with (low,high) values\n",
    "latencyscale = (0.2,0.7) #uniform distribution with (low,high) values\n",
    "refractorylocation = (4.0,6.0) #uniform distribution with (low,high) values\n",
    "refractoryscale = (1.5,2.5) #uniform distribution with (low,high) values\n",
    "\n",
    "photons1 = photonsequence(\"../data/naturallight.jld\")\n",
    "current1 = lightinducedcurrent(\"../data/naturallight.jld\")\n",
    "\n",
    "modelpolicy1 = policy(:photoreceptor) #4-parameter model with stochastic lognormal latency and refractory parameters\n",
    "params1 = parameters(:photoreceptor,modelpolicy1,latencylocation,latencyscale,refractorylocation,refractoryscale)\n",
    "\n",
    "####Variance for the noise model, estimated from previous runs\n",
    "variance1 = [3600.0]\n",
    "\n",
    "println(\"==========================================\")\n",
    "println(\"Simulation parameters defined successfully\")\n",
    "println(\"==========================================\")"
   ]
  },
  {
   "cell_type": "code",
   "execution_count": null,
   "metadata": {
    "collapsed": false
   },
   "outputs": [],
   "source": [
    "###Create a PhotoReceptor model\n",
    "model1 = model(:photoreceptor,params1,photons1,current1,variance1,numvilli1,modelpolicy1)\n",
    "\n",
    "###Show the model\n",
    "println(\"==========================\")\n",
    "println(\"Model defined successfully\")\n",
    "println(\"==========================\")\n",
    "show(model1)"
   ]
  },
  {
   "cell_type": "code",
   "execution_count": null,
   "metadata": {
    "collapsed": false
   },
   "outputs": [],
   "source": [
    "###Plot the measurement data (simmulated data + noise)\n",
    "figure(\"PhotoReceptor1\") ; clf()\n",
    "plot(dataindex(model1),measurements(model1);label=\"measured\",linewidth=2)\n",
    "xlabel(\"Time\")\n",
    "ylabel(\"Current (nA)\")\n",
    "xlim(dataindex(model1)[1],dataindex(model1)[end])\n",
    "title(\"Light-Induced Current\")\n",
    "grid(\"on\")\n",
    "legend(loc=\"upper right\",fancybox=\"true\")"
   ]
  },
  {
   "cell_type": "code",
   "execution_count": null,
   "metadata": {
    "collapsed": false
   },
   "outputs": [],
   "source": [
    "###Create a Metropolis sampler with a Normal proposal density\n",
    "propcov = [0.1,0.01,0.1,0.01]\n",
    "sampler1 = sampler(:mh,:normal,1.0,propcov)\n",
    "println(\"============================\")\n",
    "println(\"Sampler defined successfully\")\n",
    "println(\"============================\")\n",
    "show(sampler1)\n",
    "println(\" initialscalefactor: $(sampler1.initialscalefactor)\")\n",
    "println(\" covariance: $(sampler1.covariance)\")\n",
    "println()\n",
    "\n",
    "###Create a tuner, either one that scales the stepsize of the proposal density or one that monitors acceptance rates\n",
    "#tuner1 = tuner(:scale,ntunerperiod,0.5,:erf)\n",
    "tuner1 = tuner(:monitor,ntunerperiod)\n",
    "println(\"==========================\")\n",
    "println(\"Tuner defined successfully\")\n",
    "println(\"==========================\")\n",
    "show(tuner1)\n",
    "\n",
    "###Create a Generalized Metropolis-Hastings runner (which will default to Standard MH when nproposals=1)\n",
    "runnerpolicy1 = policy(:gmh,nproposals;initialize=:prior)\n",
    "runner1 = runner(:gmh,niterations,nproposals,runnerpolicy1;numburnin = nburnin)\n",
    "println(\"===========================\")\n",
    "println(\"Runner defined successfully\")\n",
    "println(\"===========================\")\n",
    "show(runner1)"
   ]
  },
  {
   "cell_type": "code",
   "execution_count": null,
   "metadata": {
    "collapsed": false
   },
   "outputs": [],
   "source": [
    "###Run the MCMC (can take quite a bit of time)\n",
    "println(\"=======================\")\n",
    "println(\"Run the MCMC simulation\")\n",
    "println(\"=======================\")\n",
    "chain1 = run!(runner1,model1,sampler1,tuner1)\n",
    "println(\"=========================\")\n",
    "println(\"Completed MCMC simulation\")\n",
    "println(\"=========================\")"
   ]
  },
  {
   "cell_type": "code",
   "execution_count": null,
   "metadata": {
    "collapsed": false
   },
   "outputs": [],
   "source": [
    "###Show the result of the simulations\n",
    "show(chain1)\n",
    "nparas = numparas(model1)\n",
    "meanparamvals = mean(samples(chain1),2)\n",
    "stdparamvals = std(samples(chain1),2)\n",
    "\n",
    "println(\"Results of the MCMC simulation:\")\n",
    "for i=1:nparas\n",
    "    println(\"mean $(parameters(model1)[i].key): $(meanparamvals[i])\")\n",
    "    println(\"std $(parameters(model1)[i].key): $(stdparamvals[i])\")\n",
    "end"
   ]
  },
  {
   "cell_type": "code",
   "execution_count": null,
   "metadata": {
    "collapsed": false,
    "scrolled": true
   },
   "outputs": [],
   "source": [
    "println(\"================\")\n",
    "println(\"Plotting results\")\n",
    "println(\"================\")\n",
    "\n",
    "###Plot the average model results in the data window\n",
    "subplot(211)\n",
    "modeldata = evaluate!(model1,vec(meanparamvals))\n",
    "plot(dataindex(model1),measurements(model1);label=\"measured\",linewidth=4,color=\"yellow\")\n",
    "plot(dataindex(model1),modeldata;label=\"model fit\",linewidth=1,color=\"black\")\n",
    "xlim(dataindex(model1)[1],dataindex(model1)[end])\n",
    "legend(loc=\"upper right\",fancybox=\"true\")\n",
    "\n",
    "###Plot the logposterior values across samples\n",
    "subplot(212)\n",
    "plot(1:numsamples(chain1),logposterior(chain1,model1))\n",
    "title(\"Log-Posterior values across samples\")\n",
    "xlabel(\"Samples\")\n",
    "ylabel(\"Log-Posterior\")\n",
    "\n"
   ]
  },
  {
   "cell_type": "code",
   "execution_count": null,
   "metadata": {
    "collapsed": false
   },
   "outputs": [],
   "source": [
    "###Plot the histograms of parameter values\n",
    "for i=1:nparas\n",
    "    subplot(220 + i)\n",
    "    bins = meanparamvals[i]-0.2:0.01:meanparamvals[i]+0.2\n",
    "    h = PyPlot.plt[:hist](sub(samples(chain1),i,:)',bins)\n",
    "    grid(\"on\")\n",
    "    title(\"$(parameters(model1)[i].key)\")\n",
    "    if i > 2\n",
    "        xlabel(\"Values\")\n",
    "    end\n",
    "    if i == 1 || i == 3\n",
    "        ylabel(\"Samples\")\n",
    "    end\n",
    "    xlim(meanparamvals[i]-0.2,meanparamvals[i]+0.2)\n",
    "end"
   ]
  },
  {
   "cell_type": "code",
   "execution_count": null,
   "metadata": {
    "collapsed": false
   },
   "outputs": [],
   "source": [
    "###Only run this box if you want to shut down all worker processes\n",
    "println(\"Pre processes running: \",procs())\n",
    "for i in workers()\n",
    "    if i != 1\n",
    "        rmprocs(i)\n",
    "    end\n",
    "end\n",
    "println(\"Post processes running: \",procs())"
   ]
  },
  {
   "cell_type": "code",
   "execution_count": null,
   "metadata": {
    "collapsed": true
   },
   "outputs": [],
   "source": []
  }
 ],
 "metadata": {
  "kernelspec": {
   "display_name": "Julia 0.4.3",
   "language": "julia",
   "name": "julia-0.4"
  },
  "language_info": {
   "file_extension": ".jl",
   "mimetype": "application/julia",
   "name": "julia",
   "version": "0.4.3"
  }
 },
 "nbformat": 4,
 "nbformat_minor": 0
}
