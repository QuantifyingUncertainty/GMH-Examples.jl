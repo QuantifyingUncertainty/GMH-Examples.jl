{
 "cells": [
  {
   "cell_type": "markdown",
   "metadata": {},
   "source": [
    "Test of a Generalized Metropolis-Hastings MCMC to explore the parameter space of a predator-prey model:\n",
    "\n",
    "This notebook compares the performance of different samplers. For a more elementary example, see ode/springmass and ode/fitzhughnagumo\n",
    "\n",
    "OPERATION: \n",
    "- Run a cell by pressing the black triangle in the toolbar above. \n",
    "- Note that the execution of a cell may take a while, and will be confirmed by a printout. \n",
    "- If a cell results in an error or warning, re-run the cell, or select \"Kernel/Restart\" at the top to restart.\n",
    "- To remove all printed output and figures, select \"Cell/All Output/Clear\" at the top."
   ]
  },
  {
   "cell_type": "code",
   "execution_count": null,
   "metadata": {
    "collapsed": false
   },
   "outputs": [],
   "source": [
    "###Load the PyPlot package (only on the main process)\n",
    "import PyPlot\n",
    "println(\"PyPlot package loaded successfully\")"
   ]
  },
  {
   "cell_type": "markdown",
   "metadata": {},
   "source": [
    "In the following cell, you can specify the number of parallel processes to run the MCMC with. The way to do this differs when running the notebook on a single computer vs. when running this notebook on a cluster of different computers (for more information on clusters see [Preparing an AWS Cluster](http://quantifyinguncertainty.github.io/#6-preparing-an-aws-cluster)).\n",
    "\n",
    "1. To run the MCMC not in parallel (in a single Julia process), set RUNPARALLEL=false.\n",
    "\n",
    "2. To run the MCMC in parallel on a single machine, set RUNPARALLEL=true and RUNONCLUSTER=false. You can set how many additional processes to run with by setting the NPROCS variable. It is recommended not to make NPROCS larger than the total number of CPU cores on your machine (defined by Julia global variable CPU_CORES).\n",
    "\n",
    "3. When running this notebook on a cluster, set RUNPARALLEL=true and RUNONCLUSTER=true. Set the xxx.xxx.xxx.xxx values to the private IP addresses of the slave machines you have started (add as many **slaveip** entries to **machvec** as required)."
   ]
  },
  {
   "cell_type": "code",
   "execution_count": null,
   "metadata": {
    "collapsed": false
   },
   "outputs": [],
   "source": [
    "RUNPARALLEL = true\n",
    "RUNONCLUSTER = false\n",
    "\n",
    "if RUNPARALLEL\n",
    "    println(\"Starting additional Julia processes\")\n",
    "    NPROCS = min(16,CPU_CORES) #do not make larger than CPU_CORES\n",
    "    if nprocs() < NPROCS\n",
    "        addprocs(NPROCS-nprocs(),topology=:master_slave)\n",
    "    end\n",
    "    println(\"Number of Julia processes: \",nprocs())\n",
    "\n",
    "    if RUNONCLUSTER \n",
    "        println(\"Starting additional Julia processes on the cluster\")\n",
    "        slaveip1 = \"ubuntu@xxx.xxx.xxx.xxx\"\n",
    "        slaveip2 = \"ubuntu@xxx.xxx.xxx.xxx\"\n",
    "        machvec = [(slaveip1,:auto),(slaveip2,:auto)]\n",
    "        addprocs(machvec,topology=:master_slave)\n",
    "        println(\"Total number of Julia processes in cluster: \",nprocs())\n",
    "    end\n",
    "end"
   ]
  },
  {
   "cell_type": "code",
   "execution_count": null,
   "metadata": {
    "collapsed": false
   },
   "outputs": [],
   "source": [
    "###Now Load the GMH package on all processes\n",
    "import GeneralizedMetropolisHastings\n",
    "\n",
    "@everywhere using GeneralizedMetropolisHastings\n",
    "println(\"GMH modules loaded successfully\")\n",
    "\n",
    "###Include the model functions\n",
    "include(\"../models/model.jl\")"
   ]
  },
  {
   "cell_type": "code",
   "execution_count": null,
   "metadata": {
    "collapsed": false
   },
   "outputs": [],
   "source": [
    "#Generalized M-H for nproposals > 1\n",
    "nproposals = 300\n",
    "\n",
    "###Initial conditions for the ODE (prey and predator populations)\n",
    "initial = [50.0,5.0]\n",
    "\n",
    "###Default values of the parameters (a,b,c) and prior boundaries\n",
    "defaults = [0.4,107.0,0.9,53.0,0.7,0.3]\n",
    "lows = zeros(6)\n",
    "highs = 150*ones(6)\n",
    "\n",
    "###The variance of the noise on the input data\n",
    "variance = sqrt(10.0)*ones(2)\n",
    "\n",
    "println(\"==========================================\")\n",
    "println(\"Simulation parameters defined successfully\")\n",
    "println(\"==========================================\")"
   ]
  },
  {
   "cell_type": "code",
   "execution_count": null,
   "metadata": {
    "collapsed": false
   },
   "outputs": [],
   "source": [
    "###Create a predator-prey model with measurement data, ODE function and parameters with default values and priors\n",
    "m = predatorpreymodel(initial,variance,lows,highs,defaults)\n",
    "\n",
    "###Show the model\n",
    "println(\"==========================\")\n",
    "println(\"Model defined successfully\")\n",
    "println(\"==========================\")\n",
    "show(m)"
   ]
  },
  {
   "cell_type": "code",
   "execution_count": null,
   "metadata": {
    "collapsed": false
   },
   "outputs": [],
   "source": [
    "###Plot the measurement data (simmulated data + noise)\n",
    "PyPlot.figure(\"PredatorPrey1\")\n",
    "PyPlot.plot(dataindex(m),measurements(m)[:,1];label=\"Prey\")\n",
    "PyPlot.plot(dataindex(m),measurements(m)[:,2];label=\"Predator\")\n",
    "PyPlot.xlabel(\"Time\")\n",
    "PyPlot.ylabel(\"Amplitude\")\n",
    "PyPlot.title(\"Predator-Prey measurement data\")\n",
    "PyPlot.grid(\"on\")\n",
    "PyPlot.legend(loc=\"upper right\",fancybox=\"true\")"
   ]
  },
  {
   "cell_type": "code",
   "execution_count": null,
   "metadata": {
    "collapsed": false
   },
   "outputs": [],
   "source": [
    "###Create different samplers\n",
    "\n",
    "###Metropolis-Hastings Sampler with normal proposal density\n",
    "mhsampler = sampler(:mh,:normal,0.02,6)\n",
    "\n",
    "###Adaptive Metropolis-Hastings Sampler with normal proposal density\n",
    "amhsampler = sampler(:adaptive,0.001,6)\n",
    "\n",
    "println(\"============================\")\n",
    "println(\"Samplers defined successfully\")\n",
    "println(\"============================\")\n",
    "show(mhsampler)\n",
    "show(amhsampler)"
   ]
  },
  {
   "cell_type": "code",
   "execution_count": null,
   "metadata": {
    "collapsed": false
   },
   "outputs": [],
   "source": [
    "###Create a tuner that scales the proposal density (for Metropolis-Hastings sampler)\n",
    "stuner = tuner(:scale,100,0.5,:erf)\n",
    "\n",
    "###Create a tuner that only monitors the acceptance rate (for Adaptive Metropolis-Hastings sampler)\n",
    "mtuner = tuner(:monitor,100)\n",
    "\n",
    "println(\"==========================\")\n",
    "println(\"Tuners defined successfully\")\n",
    "println(\"==========================\")\n",
    "show(stuner)\n",
    "show(mtuner)"
   ]
  },
  {
   "cell_type": "code",
   "execution_count": null,
   "metadata": {
    "collapsed": false
   },
   "outputs": [],
   "source": [
    "###Create Generalized Metropolis-Hastings runner\n",
    "p = policy(:mh,nproposals;initialize=:default)\n",
    "r1 = runner(p,500,nproposals;numburnin=500)\n",
    "r2 = runner(p,500,nproposals;numburnin=1000) #longer burnin period for the adaptive sampler\n",
    "println(\"============================\")\n",
    "println(\"Runners defined successfully\")\n",
    "println(\"============================\")\n",
    "show(r1)\n",
    "show(r2)"
   ]
  },
  {
   "cell_type": "code",
   "execution_count": null,
   "metadata": {
    "collapsed": false
   },
   "outputs": [],
   "source": [
    "###Run the MCMC (can take quite a bit of time)\n",
    "println(\"========================\")\n",
    "println(\"Run the MCMC simulations\")\n",
    "println(\"========================\")\n",
    "println(\"With Metropolis-Hastings Sampler\")\n",
    "@time result1 = run!(r1,m,mhsampler,stuner)\n",
    "println(\"=========================================\")\n",
    "println(\"With Adaptive Metropolis-Hastings Sampler\")\n",
    "@time result2 = run!(r2,m,amhsampler,mtuner)\n",
    "println(\"==========================\")\n",
    "println(\"Completed MCMC simulations\")\n",
    "println(\"==========================\")"
   ]
  },
  {
   "cell_type": "code",
   "execution_count": null,
   "metadata": {
    "collapsed": false
   },
   "outputs": [],
   "source": [
    "###Show the results of the simulations\n",
    "println(\"=========================\")\n",
    "println(\"Results of the MH Sampler\")\n",
    "println(\"=========================\")\n",
    "show(result1)\n",
    "\n",
    "meanparamvals1 = mean(samples(result1),2)\n",
    "stdparamvals1 = std(samples(result1),2)\n",
    "\n",
    "println(\"Results of the MCMC simulation:\")\n",
    "for i=1:numparas(m)\n",
    "    println(\" parameter $(parameters(m)[i].key):  mean = \",meanparamvals1[i],\" std = \",stdparamvals1[i])\n",
    "end\n",
    "\n",
    "println(\"==================================\")\n",
    "println(\"Results of the Adaptive-MH Sampler\")\n",
    "println(\"==================================\")\n",
    "\n",
    "show(result2)\n",
    "\n",
    "meanparamvals2 = mean(samples(result2),2)\n",
    "stdparamvals2 = std(samples(result2),2)\n",
    "\n",
    "println(\"Results of the MCMC simulation:\")\n",
    "for i=1:numparas(m)\n",
    "    println(\" parameter $(parameters(m)[i].key):  mean = \",meanparamvals2[i],\" std = \",stdparamvals2[i])\n",
    "end\n"
   ]
  },
  {
   "cell_type": "code",
   "execution_count": null,
   "metadata": {
    "collapsed": false
   },
   "outputs": [],
   "source": [
    "###Plot the measurement data (simmulated data + noise)\n",
    "PyPlot.figure(\"PredatorPrey2\")\n",
    "modeldata1 = evaluate!(m,vec(meanparamvals1))\n",
    "modeldata2 = evaluate!(m,vec(meanparamvals2))\n",
    "PyPlot.plot(dataindex(m),measurements(m)[:,1];label=\"Measured Prey\")\n",
    "PyPlot.plot(dataindex(m),measurements(m)[:,2];label=\"Measured Predator\")\n",
    "PyPlot.plot(dataindex(m),modeldata1[:,1];label=\"MH Sampler Prey\")\n",
    "PyPlot.plot(dataindex(m),modeldata1[:,2];label=\"MH Sampler Predator\")\n",
    "PyPlot.plot(dataindex(m),modeldata2[:,1];label=\"A-MH Sampler Prey\")\n",
    "PyPlot.plot(dataindex(m),modeldata2[:,2];label=\"A-MH Sampler Predator\")\n",
    "PyPlot.xlabel(\"Time\")\n",
    "PyPlot.ylabel(\"Amplitude\")\n",
    "PyPlot.title(\"Predator-Prey Model\")\n",
    "PyPlot.grid(\"on\")\n",
    "PyPlot.legend(loc=\"upper right\",fancybox=\"true\")"
   ]
  },
  {
   "cell_type": "code",
   "execution_count": null,
   "metadata": {
    "collapsed": false
   },
   "outputs": [],
   "source": [
    "###Plot the histograms of parameter values\n",
    "PyPlot.figure(\"PredatorPrey3\")\n",
    "for i=1:numparas(m)\n",
    "    PyPlot.subplot(320 + i)\n",
    "    h = PyPlot.plt[:hist](sub(samples(result1),i,:)',20)\n",
    "    PyPlot.grid(\"on\")\n",
    "    PyPlot.ylabel(\"Parameter $(parameters(m)[i].key)\")\n",
    "end\n",
    "println(\"Parameter Histograms for MH Sampler\")"
   ]
  },
  {
   "cell_type": "code",
   "execution_count": null,
   "metadata": {
    "collapsed": false
   },
   "outputs": [],
   "source": [
    "###Plot the histograms of parameter values\n",
    "PyPlot.figure(\"PredatorPrey4\")\n",
    "for i=1:numparas(m)\n",
    "    PyPlot.subplot(320 + i)\n",
    "    h = PyPlot.plt[:hist](sub(samples(result2),i,:)',20)\n",
    "    PyPlot.grid(\"on\")\n",
    "    PyPlot.ylabel(\"Parameter $(parameters(m)[i].key)\")\n",
    "end\n",
    "println(\"Parameter Histograms for Adaptive MH Sampler\")"
   ]
  },
  {
   "cell_type": "code",
   "execution_count": null,
   "metadata": {
    "collapsed": false
   },
   "outputs": [],
   "source": [
    "println(\"Number of processes running: \",nprocs())\n",
    "println(\"Number of workers running: \",nworkers())\n",
    "println(\"Process IDs: \",procs())"
   ]
  },
  {
   "cell_type": "code",
   "execution_count": null,
   "metadata": {
    "collapsed": true
   },
   "outputs": [],
   "source": [
    "###Only run this box if you want to shut down all worker processes\n",
    "println(\"Pre processes running: \",procs())\n",
    "rmprocs(workers())\n",
    "println(\"Post processes running: \",procs())"
   ]
  }
 ],
 "metadata": {
  "kernelspec": {
   "display_name": "Julia 0.4.6",
   "language": "julia",
   "name": "julia-0.4"
  },
  "language_info": {
   "file_extension": ".jl",
   "mimetype": "application/julia",
   "name": "julia",
   "version": "0.4.6"
  }
 },
 "nbformat": 4,
 "nbformat_minor": 0
}
