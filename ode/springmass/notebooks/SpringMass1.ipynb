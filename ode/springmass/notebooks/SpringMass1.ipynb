{
 "cells": [
  {
   "cell_type": "markdown",
   "metadata": {},
   "source": [
    "Test of a Generalized Metropolis-Hastings MCMC to explore the parameter space for a simple Spring-Mass ODE model with spring stiffness K and mass M. \n",
    "\n",
    "If the number of proposals per iteration equals 1, then the behaviour of this runner is equivalent to Standard M-H, for number of proposals > 1, it will behave as the Generalized Metropolis-Hastings algorithm.\n",
    "\n",
    "OPERATION: \n",
    "- Run a cell by pressing the black triangle in the toolbar above. \n",
    "- Note that the execution of a cell may take a while, and will be confirmed by a printout. \n",
    "- If a cell prints output in a pink box, re-run and see if it disappears. If not, close and re-open the notebook, or select \"Kernel/Restart\" at the top. \n",
    "- To remove all printed output and figures, select \"Cell/All Output/Clear\" at the top."
   ]
  },
  {
   "cell_type": "code",
   "execution_count": null,
   "metadata": {
    "collapsed": false
   },
   "outputs": [],
   "source": [
    "###Load the PyPlot package (only on the main process)\n",
    "import PyPlot\n",
    "println(\"PyPlot package loaded successfully\")"
   ]
  },
  {
   "cell_type": "markdown",
   "metadata": {},
   "source": [
    "In the following cell, you can specify the number of parallel processes to run the MCMC with. The way to do this differs when running the notebook on a single computer vs. when running this notebook on a cluster of different computers (for more information on clusters see [Preparing an AWS Cluster](http://quantifyinguncertainty.github.io/#6-preparing-an-aws-cluster)).\n",
    "\n",
    "1. To run the MCMC not in parallel (in a single Julia process), set RUNPARALLEL=false.\n",
    "\n",
    "2. To run the MCMC in parallel on a single machine, set RUNPARALLEL=true and RUNONCLUSTER=false. You can set how many additional processes to run with by setting the NPROCS variable. It is recommended not to make NPROCS larger than the total number of CPU cores on your machine (defined by Julia global variable CPU_CORES).\n",
    "\n",
    "3. When running this notebook on a cluster, set RUNPARALLEL=true and RUNONCLUSTER=true. Set the xxx.xxx.xxx.xxx values to the private IP addresses of the slave machines you have started (add as many **slaveip** entries to **machvec** as required)."
   ]
  },
  {
   "cell_type": "code",
   "execution_count": null,
   "metadata": {
    "collapsed": false
   },
   "outputs": [],
   "source": [
    "RUNPARALLEL = true\n",
    "RUNONCLUSTER = false\n",
    "\n",
    "if RUNPARALLEL\n",
    "    println(\"Starting additional Julia processes\")\n",
    "    NPROCS = min(3,CPU_CORES) #do not make larger than CPU_CORES\n",
    "    if nprocs() < NPROCS\n",
    "        addprocs(NPROCS-nprocs())\n",
    "    end\n",
    "    println(\"Number of Julia processes: \",nprocs())\n",
    "\n",
    "    if RUNONCLUSTER \n",
    "        println(\"Starting additional Julia processes on the cluster\")\n",
    "        slaveip1 = \"ubuntu@xxx.xxx.xxx.xxx\"\n",
    "        slaveip2 = \"ubuntu@xxx.xxx.xxx.xxx\"\n",
    "        machvec = [(slaveip1,:auto),(slaveip2,:auto)]\n",
    "        addprocs(machvec,topology=:master_slave)\n",
    "        println(\"Total number of Julia processes in cluster: \",nprocs())\n",
    "    end\n",
    "end"
   ]
  },
  {
   "cell_type": "code",
   "execution_count": null,
   "metadata": {
    "collapsed": false,
    "scrolled": true
   },
   "outputs": [],
   "source": [
    "import GeneralizedMetropolisHastings\n",
    "    \n",
    "###The following statement makes the GeneralizedMetropolisHastings core code available on all processes\n",
    "@everywhere using GeneralizedMetropolisHastings\n",
    "println(\"GMH modules loaded successfully\")\n",
    "\n",
    "###Include the model functions spedified in GMHExamples.jl/ode/springmass/models/model.jl\n",
    "include(\"../models/model.jl\")"
   ]
  },
  {
   "cell_type": "code",
   "execution_count": null,
   "metadata": {
    "collapsed": false
   },
   "outputs": [],
   "source": [
    "#Standard M-H for nproposals == 1\n",
    "#Generalized M-H for nproposals > 1\n",
    "nproposals = 30\n",
    "\n",
    "#MCMC iteration specifications\n",
    "nburnin = 200\n",
    "niterations = 1000\n",
    "ntunerperiod = 20\n",
    "\n",
    "#Time points to simulate the spring-mass ODE\n",
    "timepoints = 0.0:0.1:10.0\n",
    "\n",
    "###Initial conditions for the spring-mass ODE (position and speed)\n",
    "initialposition = -1.0 #in meters\n",
    "initialvelocity = 1.0 #in meters/second\n",
    "\n",
    "###Values of the model parameters (spring stiffness K and mass M)\n",
    "K = 50.0 #in Newton/meter\n",
    "M = 10.0 #in kg\n",
    "lows = [K-K/5,M-M/5]\n",
    "highs = [K+K/5,M+M/5]\n",
    "\n",
    "###The variance of the normal noise on the input data\n",
    "variance = [0.01,0.09]\n",
    "\n",
    "println(\"==========================================\")\n",
    "println(\"Simulation parameters defined successfully\")\n",
    "println(\"==========================================\")"
   ]
  },
  {
   "cell_type": "code",
   "execution_count": null,
   "metadata": {
    "collapsed": false,
    "scrolled": true
   },
   "outputs": [],
   "source": [
    "###Create a Spring-Mass model with measurement data and ODE function\n",
    "m = springmassmodel(timepoints,[initialposition,initialvelocity],[K,M],variance,lows,highs)\n",
    "\n",
    "###Show the model\n",
    "println(\"==========================\")\n",
    "println(\"Model defined successfully\")\n",
    "println(\"==========================\")\n",
    "show(m)"
   ]
  },
  {
   "cell_type": "code",
   "execution_count": null,
   "metadata": {
    "collapsed": false
   },
   "outputs": [],
   "source": [
    "###Plot the measurement data (simmulated data + noise)\n",
    "PyPlot.figure(\"SpringMass-Measurement\")\n",
    "PyPlot.plot(dataindex(m),measurements(m)[:,1];label=\"location\")\n",
    "PyPlot.plot(dataindex(m),measurements(m)[:,2];label=\"velocity\")\n",
    "PyPlot.xlabel(\"Time\")\n",
    "PyPlot.ylabel(\"Amplitude\")\n",
    "PyPlot.title(\"Spring-Mass measurement data\")\n",
    "PyPlot.grid(\"on\")\n",
    "PyPlot.legend(loc=\"upper right\",fancybox=\"true\")"
   ]
  },
  {
   "cell_type": "markdown",
   "metadata": {},
   "source": [
    "Now specify the sampler (a Metropolis-Hastings sampler with a Gaussian proposal density) and the runner to run a Generalized Metropolis-Hastings algorithm (remember that the choice between Standard and Generalized M-H is made by either setting nproposals to 1 or make it > 1)."
   ]
  },
  {
   "cell_type": "code",
   "execution_count": null,
   "metadata": {
    "collapsed": false
   },
   "outputs": [],
   "source": [
    "###Create a Metropolis sampler with a Normal proposal density\n",
    "s = sampler(:mh,:normal,1.0,0.01eye(2))\n",
    "println(\"============================\")\n",
    "println(\"Sampler defined successfully\")\n",
    "println(\"============================\")\n",
    "show(s)\n",
    "\n",
    "###Create a tuner that scales the proposal density\n",
    "t = tuner(:scale,ntunerperiod,0.5,:erf)\n",
    "println(\"==========================\")\n",
    "println(\"Tuner defined successfully\")\n",
    "println(\"==========================\")\n",
    "show(t)\n",
    "\n",
    "###Create a Generalized Metropolis-Hastings runner (which will default to Standard MH when nproposals=1)\n",
    "p = policy(:mh,nproposals;initialize=:prior)\n",
    "r = runner(p,niterations,nproposals;numburnin = nburnin)\n",
    "println(\"===========================\")\n",
    "println(\"Runner defined successfully\")\n",
    "println(\"===========================\")\n",
    "show(r)"
   ]
  },
  {
   "cell_type": "markdown",
   "metadata": {},
   "source": [
    "Now run the simulation using the runner, the model and the sampler specified above. A printout will appear when the simulation is finished."
   ]
  },
  {
   "cell_type": "code",
   "execution_count": null,
   "metadata": {
    "collapsed": false
   },
   "outputs": [],
   "source": [
    "###Run the MCMC (can take quite a bit of time)\n",
    "println(\"=======================\")\n",
    "println(\"Run the MCMC simulation\")\n",
    "println(\"=======================\")\n",
    "@time c = run!(r,m,s,t)\n",
    "println(\"=========================\")\n",
    "println(\"Completed MCMC simulation\")\n",
    "println(\"=========================\")"
   ]
  },
  {
   "cell_type": "code",
   "execution_count": null,
   "metadata": {
    "collapsed": false
   },
   "outputs": [],
   "source": [
    "###Show the result of the simulations\n",
    "show(c)\n",
    "\n",
    "nparas = numparas(m)\n",
    "meanparamvals = mean(samples(c),2)\n",
    "stdparamvals = std(samples(c),2)\n",
    "\n",
    "println(\"Results of the MCMC simulation:\")\n",
    "println(\" mean K: \",meanparamvals[1])\n",
    "println(\" mean M: \",meanparamvals[2])\n",
    "println(\" mean K/M: \",meanparamvals[1]/meanparamvals[2])\n",
    "println(\"Mean K/M should be close to $(K/M)\")"
   ]
  },
  {
   "cell_type": "code",
   "execution_count": null,
   "metadata": {
    "collapsed": false
   },
   "outputs": [],
   "source": [
    "###Plot the loglikelihood values across samples\n",
    "###After an initial few low values, this should remain relatively high\n",
    "PyPlot.plot(1:numsamples(c),logposterior(c,m))\n",
    "PyPlot.title(\"Log-Posterior values across samples\")\n",
    "PyPlot.xlabel(\"Samples\")\n",
    "PyPlot.ylabel(\"Log-Posterior\")"
   ]
  },
  {
   "cell_type": "code",
   "execution_count": null,
   "metadata": {
    "collapsed": false
   },
   "outputs": [],
   "source": [
    "###Plot a scatter plot of K vs M values\n",
    "###These should be spread around the K/M == 10.0 line (the diagonal in the figure)\n",
    "ax3 = PyPlot.subplot(111)\n",
    "ax3[:set_xlim]([lows[1],highs[1]])\n",
    "ax3[:set_ylim]([lows[2],highs[2]])\n",
    "PyPlot.scatter(sub(samples(c),1,:)',sub(samples(c),2,:)',marker=\".\",color=\"blue\")\n",
    "ax3[:set_aspect](abs(highs[1]-lows[1])/abs(highs[2]-lows[2]))\n",
    "PyPlot.title(\"MCMC samples of Spring-Mass ODE parameters\")\n",
    "PyPlot.xlabel(\"Stiffness K (N/m)\")\n",
    "PyPlot.ylabel(\"Mass M (kg)\")\n",
    "PyPlot.grid(\"on\")"
   ]
  },
  {
   "cell_type": "code",
   "execution_count": null,
   "metadata": {
    "collapsed": false
   },
   "outputs": [],
   "source": [
    "###Finally, plot the average model results in the data window\n",
    "modeldata = evaluate!(m,vec(meanparamvals))\n",
    "PyPlot.plot(dataindex(m),modeldata[:,1];label=\"model location\")\n",
    "PyPlot.plot(dataindex(m),modeldata[:,2];label=\"model velocity\")\n",
    "PyPlot.plot(dataindex(m),measurements(m)[:,1];label=\"location\")\n",
    "PyPlot.plot(dataindex(m),measurements(m)[:,2];label=\"velocity\")\n",
    "PyPlot.xlabel(\"Time\")\n",
    "PyPlot.ylabel(\"Amplitude\")\n",
    "PyPlot.title(\"Spring-Mass measurement data\")\n",
    "PyPlot.grid(\"on\")\n",
    "PyPlot.legend(loc=\"lower right\",fancybox=\"true\")"
   ]
  },
  {
   "cell_type": "code",
   "execution_count": null,
   "metadata": {
    "collapsed": false
   },
   "outputs": [],
   "source": [
    "###Plot a histogram of K/M values, which should peak around the true ratio of K/M\n",
    "kml,kmu = K/M-K/M/10.0,K/M+K/M/10.0\n",
    "ax4 = PyPlot.subplot(111)\n",
    "ax4[:set_xlim]([kml,kmu])\n",
    "nbins = linspace(kml,kmu,100)\n",
    "h = PyPlot.plt[:hist]((sub(samples(c),1,:)./sub(samples(c),2,:))',nbins)\n",
    "PyPlot.grid(\"on\")\n",
    "PyPlot.xlabel(\"K/M\")\n",
    "PyPlot.ylabel(\"Number of Samples\")\n",
    "PyPlot.title(\"Histogram of K/M values\")"
   ]
  },
  {
   "cell_type": "code",
   "execution_count": null,
   "metadata": {
    "collapsed": false
   },
   "outputs": [],
   "source": [
    "println(\"Number of processes running: \",nprocs())\n",
    "println(\"Number of workers running: \",nworkers())\n",
    "println(\"Process IDs: \",procs())"
   ]
  },
  {
   "cell_type": "code",
   "execution_count": null,
   "metadata": {
    "collapsed": false
   },
   "outputs": [],
   "source": [
    "###Only run this box if you want to shut down all worker processes\n",
    "println(\"Pre processes running: \",procs())\n",
    "for i in workers()\n",
    "    if i != 1\n",
    "        rmprocs(i)\n",
    "    end\n",
    "end\n",
    "println(\"Post processes running: \",procs())"
   ]
  },
  {
   "cell_type": "code",
   "execution_count": null,
   "metadata": {
    "collapsed": true
   },
   "outputs": [],
   "source": []
  }
 ],
 "metadata": {
  "kernelspec": {
   "display_name": "Julia 0.4.6",
   "language": "julia",
   "name": "julia-0.4"
  },
  "language_info": {
   "file_extension": ".jl",
   "mimetype": "application/julia",
   "name": "julia",
   "version": "0.4.6"
  }
 },
 "nbformat": 4,
 "nbformat_minor": 0
}
