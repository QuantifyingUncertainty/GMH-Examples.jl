{
 "cells": [
  {
   "cell_type": "markdown",
   "metadata": {},
   "source": [
    "Test of a Generalized Metropolis-Hastings MCMC to explore the parameter space of the FitzHugh-Nagumo model: http://www.scholarpedia.org/article/FitzHugh-Nagumo_model \n",
    "\n",
    "If the number of proposals per iteration equals 1, then the behaviour of this runner is equivalent to Standard M-H, for number of proposals > 1, it will behave as the Generalized Metropolis-Hastings algorithm.\n",
    "\n",
    "OPERATION: \n",
    "- Run a cell by pressing the black triangle in the toolbar above. \n",
    "- Note that the execution of a cell may take a while, and will be confirmed by a printout. \n",
    "- If a cell prints output in a pink box, re-run and see if it disappears. If not, close and re-open the notebook, or select \"Kernel/Restart\" at the top. \n",
    "- To remove all printed output and figures, select \"Cell/All Output/Clear\" at the top."
   ]
  },
  {
   "cell_type": "code",
   "execution_count": null,
   "metadata": {
    "collapsed": false,
    "scrolled": true
   },
   "outputs": [],
   "source": [
    "###Load the PyPlot package\n",
    "import PyPlot\n",
    "println(\"PyPlot package loaded successfully\")\n",
    "\n",
    "NPROCS = 4\n",
    "if nprocs() < NPROCS\n",
    "    addprocs(NPROCS-nprocs())\n",
    "end\n",
    "println(\"Number of parallel processes: \",nprocs())\n",
    "    \n",
    "import GeneralizedMetropolisHastings\n",
    "\n",
    "@everywhere using GeneralizedMetropolisHastings\n",
    "println(\"GMH modules loaded successfully\")\n",
    "\n",
    "###Include the model functions\n",
    "include(\"../models/model.jl\")"
   ]
  },
  {
   "cell_type": "code",
   "execution_count": null,
   "metadata": {
    "collapsed": false
   },
   "outputs": [],
   "source": [
    "#Standard M-H for nproposals == 1\n",
    "#Generalized M-H for nproposals > 1\n",
    "nproposals = 30\n",
    "\n",
    "#MCMC iteration specifications\n",
    "nburnin = 1000\n",
    "niterations = 1000\n",
    "ntunerperiod = 100\n",
    "\n",
    "###Initial conditions for the spring-mass ODE (membrane potential and refractory variable)\n",
    "initial = [-1.0,1.0]\n",
    "\n",
    "###Default values of the parameters (a,b,c) and prior boundaries\n",
    "defaults = [0.3,0.3,2.0]\n",
    "lows = zeros(3)\n",
    "highs = [5.0,5.0,5.0]\n",
    "\n",
    "###The variance of the noise on the input data\n",
    "variance = [0.02,0.005]\n",
    "\n",
    "println(\"==========================================\")\n",
    "println(\"Simulation parameters defined successfully\")\n",
    "println(\"==========================================\")"
   ]
  },
  {
   "cell_type": "markdown",
   "metadata": {},
   "source": [
    "Specify the model object from the parameters and helper function specified above"
   ]
  },
  {
   "cell_type": "code",
   "execution_count": null,
   "metadata": {
    "collapsed": false
   },
   "outputs": [],
   "source": [
    "###Create a FitzHugh-Nagumo model with measurement data, ODE function and parameters with default values and priors\n",
    "m = fitzhughnagumomodel(initial,variance,lows,highs,defaults)\n",
    "\n",
    "###Show the model\n",
    "println(\"==========================\")\n",
    "println(\"Model defined successfully\")\n",
    "println(\"==========================\")\n",
    "show(m)"
   ]
  },
  {
   "cell_type": "markdown",
   "metadata": {},
   "source": [
    "Now specify the sampler (a Metropolis-Hastings sampler with a Gaussian proposal density) and the runner to run a Generalized Metropolis-Hastings algorithm (remember that the choice between Standard and Generalized M-H is made by either setting nproposals to 1 or make it > 1)."
   ]
  },
  {
   "cell_type": "code",
   "execution_count": null,
   "metadata": {
    "collapsed": false
   },
   "outputs": [],
   "source": [
    "###Create a Metropolis sampler with a Normal proposal density\n",
    "s = sampler(:mh,:normal,1.0,0.1eye(3))\n",
    "println(\"============================\")\n",
    "println(\"Sampler defined successfully\")\n",
    "println(\"============================\")\n",
    "show(s)\n",
    "\n",
    "###Create a tuner that scales the proposal density\n",
    "t = tuner(:scale,ntunerperiod,0.5,:erf)\n",
    "println(\"==========================\")\n",
    "println(\"Tuner defined successfully\")\n",
    "println(\"==========================\")\n",
    "show(t)\n",
    "\n",
    "###Create a Generalized Metropolis-Hastings runner (which will default to Standard MH when nproposals=1)\n",
    "p = policy(:mh,nproposals;initialize=:default)\n",
    "r = runner(p,niterations,nproposals;numburnin = nburnin)\n",
    "println(\"===========================\")\n",
    "println(\"Runner defined successfully\")\n",
    "println(\"===========================\")\n",
    "show(r)"
   ]
  },
  {
   "cell_type": "markdown",
   "metadata": {},
   "source": [
    "Now run the simulation using the runner, the model and the sampler specified above. A printout will appear when the simulation is finished."
   ]
  },
  {
   "cell_type": "code",
   "execution_count": null,
   "metadata": {
    "collapsed": false
   },
   "outputs": [],
   "source": [
    "###Run the MCMC (can take quite a bit of time)\n",
    "println(\"=======================\")\n",
    "println(\"Run the MCMC simulation\")\n",
    "println(\"=======================\")\n",
    "@time c = run!(r,m,s,t)\n",
    "println(\"==========================\")\n",
    "println(\"Completed MCMC simulation\")\n",
    "println(\"=========================\")"
   ]
  },
  {
   "cell_type": "code",
   "execution_count": null,
   "metadata": {
    "collapsed": false
   },
   "outputs": [],
   "source": [
    "###Show the results of the simulations\n",
    "show(c)\n",
    "\n",
    "nparas = numparas(m)\n",
    "meanparamvals = mean(samples(c),2)\n",
    "stdparamvals = std(samples(c),2)\n",
    "\n",
    "println(\"Results of the MCMC simulation:\")\n",
    "for i=1:nparas\n",
    "    println(\" parameter $(parameters(m)[i].key):  mean = \",meanparamvals[i],\" std = \",stdparamvals[i])\n",
    "end"
   ]
  },
  {
   "cell_type": "code",
   "execution_count": null,
   "metadata": {
    "collapsed": false
   },
   "outputs": [],
   "source": [
    "###Plot the measurement data (simmulated data + noise)\n",
    "PyPlot.figure(\"FitzHughNagumo1\")\n",
    "modeldata = evaluate!(m,vec(meanparamvals))\n",
    "PyPlot.plot(dataindex(m),measurements(m)[:,1];label=\"membrane potential\")\n",
    "PyPlot.plot(dataindex(m),measurements(m)[:,2];label=\"refractory variable\")\n",
    "PyPlot.plot(dataindex(m),modeldata[:,1])\n",
    "PyPlot.plot(dataindex(m),modeldata[:,2])\n",
    "PyPlot.xlabel(\"Time\")\n",
    "PyPlot.ylabel(\"Amplitude\")\n",
    "PyPlot.title(\"FitzHugh-Nagumo model data\")\n",
    "PyPlot.grid(\"on\")\n",
    "PyPlot.legend(loc=\"lower right\",fancybox=\"true\")"
   ]
  },
  {
   "cell_type": "code",
   "execution_count": null,
   "metadata": {
    "collapsed": false
   },
   "outputs": [],
   "source": [
    "###Plot the histograms of a,b,c values\n",
    "for i=1:nparas\n",
    "    PyPlot.subplot(310 + i)\n",
    "    h = PyPlot.plt[:hist](sub(samples(c),i,:)',20)\n",
    "    PyPlot.grid(\"on\")\n",
    "    PyPlot.ylabel(\"Parameter $(parameters(m)[i].key)\")\n",
    "end"
   ]
  },
  {
   "cell_type": "code",
   "execution_count": null,
   "metadata": {
    "collapsed": false
   },
   "outputs": [],
   "source": [
    "###Plot the loglikelihood values across samples\n",
    "###After an initial few low values, this should remain relatively high\n",
    "PyPlot.plot(1:numsamples(c),logposterior(c,m))\n",
    "PyPlot.title(\"Log-Posterior values across samples\")\n",
    "PyPlot.xlabel(\"Samples\")\n",
    "PyPlot.ylabel(\"Log-Posterior\")"
   ]
  },
  {
   "cell_type": "code",
   "execution_count": null,
   "metadata": {
    "collapsed": false
   },
   "outputs": [],
   "source": [
    "println(\"Number of processes running: \",nprocs())\n",
    "println(\"Number of workers running: \",nworkers())\n",
    "println(\"Process IDs: \",procs())"
   ]
  },
  {
   "cell_type": "code",
   "execution_count": null,
   "metadata": {
    "collapsed": false
   },
   "outputs": [],
   "source": [
    "###Only run this box if you want to shut down all worker processes\n",
    "println(\"Pre processes running: \",procs())\n",
    "rmprocs(workers())\n",
    "println(\"Post processes running: \",procs())"
   ]
  },
  {
   "cell_type": "code",
   "execution_count": null,
   "metadata": {
    "collapsed": true
   },
   "outputs": [],
   "source": []
  }
 ],
 "metadata": {
  "kernelspec": {
   "display_name": "Julia 0.4.6",
   "language": "julia",
   "name": "julia-0.4"
  },
  "language_info": {
   "file_extension": ".jl",
   "mimetype": "application/julia",
   "name": "julia",
   "version": "0.4.6"
  }
 },
 "nbformat": 4,
 "nbformat_minor": 0
}
