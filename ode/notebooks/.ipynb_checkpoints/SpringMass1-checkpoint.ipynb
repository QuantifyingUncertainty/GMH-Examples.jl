{
 "cells": [
  {
   "cell_type": "markdown",
   "metadata": {},
   "source": [
    "Test of a Generalized Metropolis-Hastings MCMC to explore the parameter space for a simple Spring-Mass ODE model with spring stiffness K and mass M. \n",
    "\n",
    "If the number of proposals per iteration equals 1, then the behaviour of this runner is equivalent to Standard M-H, for number of proposals > 1, it will behave as the Generalized Metropolis-Hastings algorithm.\n",
    "\n",
    "OPERATION: \n",
    "- Run a cell by pressing the black triangle in the toolbar above. \n",
    "- Note that the execution of a cell may take a while, and will be confirmed by a printout. \n",
    "- If a cell prints output in a pink box, re-run and see if it disappears. If not, close and re-open the notebook, or select \"Kernel/Restart\" at the top. \n",
    "- To remove all printed output and figures, select \"Cell/All Output/Clear\" at the top."
   ]
  },
  {
   "cell_type": "code",
   "execution_count": null,
   "metadata": {
    "collapsed": false,
    "scrolled": true
   },
   "outputs": [
    {
     "name": "stdout",
     "output_type": "stream",
     "text": [
      "Number of parallel processes: 3\n"
     ]
    },
    {
     "name": "stderr",
     "output_type": "stream",
     "text": [
      "exception on 1: ERROR: GMHModels not found\n",
      " in require at loading.jl:47\n",
      " in eval at /home/centos/buildbot/slave/package_tarball64/build/base/sysimg.jl:7\n",
      " in anonymous at multi.jl:1305\n",
      " in run_work_thunk at multi.jl:621\n",
      " in remotecall_fetch at multi.jl:694\n",
      " in remotecall_fetch at multi.jl:709\n",
      " in anonymous at task.jl:340\n",
      "exception on exception on 2: 3: ERROR: GMHModels not found\n",
      " in require at loading.jl:47\n",
      " in eval at /home/centos/buildbot/slave/package_tarball64/build/base/sysimg.jl:7\n",
      " in anonymous at multi.jl:1305\n",
      " in anonymous at multi.jl:855\n",
      " in run_work_thunk at multi.jl:621\n",
      " in anonymous at task.jl:855\n",
      "ERROR: GMHModels not found\n",
      " in require at loading.jl:47\n",
      " in eval at /home/centos/buildbot/slave/package_tarball64/build/base/sysimg.jl:7\n",
      " in anonymous at multi.jl:1305\n",
      " in anonymous at multi.jl:855\n",
      " in run_work_thunk at multi.jl:621\n",
      " in anonymous at task.jl:855\n"
     ]
    },
    {
     "name": "stdout",
     "output_type": "stream",
     "text": [
      "GeneralizedMetropolisHastings module loaded successfully\n"
     ]
    },
    {
     "name": "stderr",
     "output_type": "stream",
     "text": [
      "INFO: Loading help data...\n"
     ]
    }
   ],
   "source": [
    "NPROCS = 3\n",
    "if nprocs() < NPROCS\n",
    "    addprocs(NPROCS-nprocs())\n",
    "end\n",
    "println(\"Number of parallel processes: \",nprocs())\n",
    "\n",
    "import GeneralizedMetropolisHastings\n",
    "import GMHModels\n",
    "    \n",
    "###The following statement makes the GeneralizedMetropolisHastings core code available on all processes\n",
    "@everywhere using GeneralizedMetropolisHastings\n",
    "@everywhere using GMHModels\n",
    "   \n",
    "###The next function is only available if the GeneralizedMetropolisHastings package has loaded correctly\n",
    "print_gmh_module_loaded()\n",
    "\n",
    "###Load the PyPlot package\n",
    "using PyPlot\n",
    "println(\"PyPlot package loaded successfully\")"
   ]
  },
  {
   "cell_type": "code",
   "execution_count": null,
   "metadata": {
    "collapsed": false
   },
   "outputs": [],
   "source": [
    "###Innitialize variables\n",
    "#Total number of MCMC samples\n",
    "nburnin = 1000\n",
    "nsamples = 10000\n",
    "\n",
    "#Standard M-H for nproposals == 1\n",
    "#Generalized M-H for nproposals > 1\n",
    "nproposals = 30\n",
    "\n",
    "#Time points to simulate the spring-mass ODE\n",
    "timepoints = [0.0:0.1:10.0]\n",
    "\n",
    "###Initial conditions for the spring-mass ODE (position and speed)\n",
    "initialposition = -1.0 #in meters\n",
    "initialvelocity = 1.0 #in meters/second\n",
    "\n",
    "###Default values of the parameters (spring stiffness K and mass M)\n",
    "K = 50.0 #in Newton/meter\n",
    "M = 10.0 #in kg\n",
    "\n",
    "###The variance of the normal noise on the input data\n",
    "noise = [0.1 0.3]\n",
    "\n",
    "println(\"Simulation parameters defined successfully\")"
   ]
  },
  {
   "cell_type": "markdown",
   "metadata": {},
   "source": [
    "The following functions specify the Ordinary Differential Equation of the Spring-Mass model, a function to generate input data from the analytical solution to the ODE, and helper functions to create the model programatically."
   ]
  },
  {
   "cell_type": "code",
   "execution_count": null,
   "metadata": {
    "collapsed": false
   },
   "outputs": [],
   "source": [
    "###ODE for spring-mass dynamic system (@everywhere makes it available in all processes)\n",
    "@everywhere function spring_mass_ode(t,y,ydot,paras)\n",
    "  ydot[1] = y[2]\n",
    "  ydot[2] = -paras[1]/paras[2]*y[1] #-K/M*X\n",
    "end\n",
    "\n",
    "###Function to generate simulation data for the spring-mass dynamic system (used as measurement data)\n",
    "function spring_mass_data(t,y0,paras,noisevar)\n",
    "  a = sqrt(paras[1]/paras[2])\n",
    "  y = [y0[1]*cos(a*t)+y0[2]/a*sin(a*t) -a*y0[1]*sin(a*t)+y0[2]*cos(a*t)]\n",
    "  [y[:,1]+rand(Distributions.Normal(0.0,noisevar[1]),size(y,1)) y[:,2]+rand(Distributions.Normal(0.0,noisevar[2]),size(y,1))]\n",
    "end\n",
    "\n",
    "###Construct a model using the Spring-Mass ODE and generated measurement data\n",
    "function spring_mass_model(timepoints,initialconditions,defaultparams,noisevariance;priorfraction =5.0)\n",
    "    measurements = spring_mass_data(timepoints,initialconditions,defaultparams,noisevariance)\n",
    "    #construct upper and lower bounds for the priors\n",
    "    l,u = defaultparams-defaultparams./priorfraction,defaultparams+defaultparams./priorfraction\n",
    "    parameters = ModelParameters(defaultparams,[Distributions.Uniform(l[1],u[1]),Distributions.Uniform(l[2],u[2])]; names = [\"K\",\"M\"])\n",
    "    ODEModel(parameters,measurements,timepoints,repmat(noisevariance,length(timepoints)),\n",
    "        spring_mass_ode,initialconditions,2,[1,2]; name = \"Spring-Mass\")\n",
    "end\n",
    "\n",
    "println(\"Spring-Mass helper functions defined successfully\")"
   ]
  },
  {
   "cell_type": "markdown",
   "metadata": {},
   "source": [
    "Specify the model object from the parameters and helper function specified above"
   ]
  },
  {
   "cell_type": "code",
   "execution_count": null,
   "metadata": {
    "collapsed": false
   },
   "outputs": [],
   "source": [
    "###Create a Spring-Mass model with measurement data and ODE function\n",
    "m = spring_mass_model(timepoints,[initialposition,initialvelocity],[K,M],noise)\n",
    "\n",
    "###Plot the measurement data (simmulated data + noise)\n",
    "plot(m.timepoints,m.measurements[:,1];label=\"location\")\n",
    "plot(m.timepoints,m.measurements[:,2];label=\"velocity\")\n",
    "xlabel(\"Time\")\n",
    "ylabel(\"Amplitude\")\n",
    "title(\"Spring-Mass measurement data\")\n",
    "grid(\"on\")\n",
    "legend(loc=\"upper right\",fancybox=\"true\")\n",
    "\n",
    "###Show the model\n",
    "show(m)"
   ]
  },
  {
   "cell_type": "markdown",
   "metadata": {},
   "source": [
    "Now specify the sampler (a Metropolis-Hastings sampler with a Gaussian proposal density) and the runner to run a Generalized Metropolis-Hastings algorithm (remember that the choice between Standard and Generalized M-H is made by either setting nproposals to 1 or make it > 1)."
   ]
  },
  {
   "cell_type": "code",
   "execution_count": null,
   "metadata": {
    "collapsed": false
   },
   "outputs": [],
   "source": [
    "###Create a Metropolis sampler with a Normal proposal density\n",
    "s = MHNormal([5.0 0.0;0.0 1.0],0.1)\n",
    "show(s)\n",
    "\n",
    "###Create a Generalized Metropolis-Hastings runner (which will default to Standard MH because nproposals == 1)\n",
    "r = GMHRunner(nsamples,nproposals;burnin = nburnin)\n",
    "show(r)"
   ]
  },
  {
   "cell_type": "markdown",
   "metadata": {},
   "source": [
    "Now run the simulation using the runner, the model and the sampler specified above. A printout will appear when the simulation is finished."
   ]
  },
  {
   "cell_type": "code",
   "execution_count": null,
   "metadata": {
    "collapsed": false
   },
   "outputs": [],
   "source": [
    "###Run the MCMC (can take quite a bit of time)\n",
    "c = run!(r,m,s)\n",
    "show(c)\n",
    "println(\"Results of the MCMC simulation:\")\n",
    "println(\" mean K: \",mean(c.values[1,nburnin:end]))\n",
    "println(\" mean M: \",mean(c.values[2,nburnin:end]))\n",
    "println(\" mean K/M: \",mean(c.values[1,nburnin:end]./c.values[2,nburnin:end]))\n",
    "println(\"Mean K/M should be close to $(K/M)\")"
   ]
  },
  {
   "cell_type": "code",
   "execution_count": null,
   "metadata": {
    "collapsed": false
   },
   "outputs": [],
   "source": [
    "###Plot the loglikelihood values across samples\n",
    "###After an initial few low values, this should remain relatively high\n",
    "plot(1:length(c.loglikelihood),c.loglikelihood+c.logprior)\n",
    "title(\"Loglikelihood values across samples\")\n",
    "xlabel(\"Samples\")\n",
    "ylabel(\"loglikelihood + logprior\")"
   ]
  },
  {
   "cell_type": "code",
   "execution_count": null,
   "metadata": {
    "collapsed": false
   },
   "outputs": [],
   "source": [
    "###Plot a scatter plot of K vs M values\n",
    "###These should be spread around the K/M == 10.0 line (the diagonal in the figure)\n",
    "fig = figure(\"pyplot_kmvalues\",figsize=(6,6))\n",
    "ax3 = axes()\n",
    "kl,ku = K-K/5.0,K+K/5.0\n",
    "ml,mu = M-M/5.0,M+M/5.0\n",
    "ax3[:set_xlim]([kl,ku])\n",
    "ax3[:set_ylim]([ml,mu])\n",
    "scatter(c.values[1,:]',c.values[2,:]',marker=\".\",color=\"blue\")\n",
    "ax3[:set_aspect](abs(ku-kl)/abs(mu-ml))\n",
    "title(\"MCMC samples of Spring-Mass ODE parameters\")\n",
    "xlabel(\"Stiffness K (N/m)\")\n",
    "ylabel(\"Mass M (kg)\")\n",
    "grid(\"on\")"
   ]
  },
  {
   "cell_type": "code",
   "execution_count": null,
   "metadata": {
    "collapsed": false
   },
   "outputs": [],
   "source": [
    "###Plot a histogram of K/M values, which should peak around K/M = 10.0 (the \"true\" ratio of K/M)\n",
    "fig = figure(\"pyplot_kmhist\",figsize=(6,6))\n",
    "ax4 = axes()\n",
    "kml,kmu = K/M-K/M/10.0,K/M+K/M/10.0\n",
    "ax4[:set_xlim]([kml,kmu])\n",
    "nbins = linspace(kml,kmu,100)\n",
    "h = PyPlot.plt[:hist]((c.values[1,:]./c.values[2,:])',nbins) \n",
    "grid(\"on\")\n",
    "xlabel(\"K/M\")\n",
    "ylabel(\"Number of Samples\")\n",
    "title(\"Histogram of K/M values\")"
   ]
  },
  {
   "cell_type": "code",
   "execution_count": null,
   "metadata": {
    "collapsed": false
   },
   "outputs": [],
   "source": [
    "println(\"Number of processes running: \",nprocs())\n",
    "println(\"Number of workers running: \",nworkers())\n",
    "println(\"Process IDs: \",procs())"
   ]
  },
  {
   "cell_type": "code",
   "execution_count": null,
   "metadata": {
    "collapsed": false
   },
   "outputs": [],
   "source": [
    "###Only run this box if you want to shut down all worker processes\n",
    "println(\"Pre processes running: \",procs())\n",
    "for i in workers()\n",
    "    if i != 1\n",
    "        rmprocs(i)\n",
    "    end\n",
    "end\n",
    "println(\"Post processes running: \",procs())"
   ]
  },
  {
   "cell_type": "code",
   "execution_count": null,
   "metadata": {
    "collapsed": true
   },
   "outputs": [],
   "source": []
  }
 ],
 "metadata": {
  "kernelspec": {
   "display_name": "Julia 0.3.12",
   "language": "julia",
   "name": "julia-0.3"
  },
  "language_info": {
   "file_extension": ".jl",
   "mimetype": "application/julia",
   "name": "julia",
   "version": "0.3.12"
  }
 },
 "nbformat": 4,
 "nbformat_minor": 0
}
