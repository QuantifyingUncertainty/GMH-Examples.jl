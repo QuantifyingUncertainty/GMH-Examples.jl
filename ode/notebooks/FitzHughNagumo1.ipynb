{
 "cells": [
  {
   "cell_type": "markdown",
   "metadata": {},
   "source": [
    "Test of a Generalized Metropolis-Hastings MCMC to explore the parameter space of the FitzHugh-Nagumo model: http://www.scholarpedia.org/article/FitzHugh-Nagumo_model \n",
    "\n",
    "If the number of proposals per iteration equals 1, then the behaviour of this runner is equivalent to Standard M-H, for number of proposals > 1, it will behave as the Generalized Metropolis-Hastings algorithm.\n",
    "\n",
    "OPERATION: \n",
    "- Run a cell by pressing the black triangle in the toolbar above. \n",
    "- Note that the execution of a cell may take a while, and will be confirmed by a printout. \n",
    "- If a cell prints output in a pink box, re-run and see if it disappears. If not, close and re-open the notebook, or select \"Kernel/Restart\" at the top. \n",
    "- To remove all printed output and figures, select \"Cell/All Output/Clear\" at the top."
   ]
  },
  {
   "cell_type": "code",
   "execution_count": null,
   "metadata": {
    "collapsed": false,
    "scrolled": true
   },
   "outputs": [],
   "source": [
    "###Use 8 processes (1 main and 7 workers) as JuliaBox gives you 8 processors\n",
    "NPROCS = 8\n",
    "if nprocs() < NPROCS\n",
    "    addprocs(NPROCS-nprocs())\n",
    "end\n",
    "println(\"Number of parallel processes: \",nprocs())\n",
    "    \n",
    "###The following statement makes the GeneralizedMetropolisHastings core code available on all processes\n",
    "@everywhere using GeneralizedMetropolisHastings\n",
    "   \n",
    "###The next function is only available if the GeneralizedMetropolisHastings package has loaded correctly\n",
    "print_gmh_module_loaded()\n",
    "\n",
    "###Load the PyPlot package\n",
    "using PyPlot\n",
    "println(\"PyPlot package loaded successfully\")"
   ]
  },
  {
   "cell_type": "code",
   "execution_count": null,
   "metadata": {
    "collapsed": false
   },
   "outputs": [],
   "source": [
    "###Innitialize variables\n",
    "#Total number of MCMC samples\n",
    "nburnin = 1000\n",
    "nsamples = 10000\n",
    "\n",
    "#Standard M-H for nproposals == 1\n",
    "#Generalized M-H for nproposals > 1\n",
    "nproposals = 10\n",
    "\n",
    "###Initial conditions for the FitzHugh-Nagumo ODE (membrane potential and refractory variable)\n",
    "initialconditions = [-1.0,1.0]\n",
    "\n",
    "###Default values of the parameters (a,b,c)\n",
    "defaultparams = [0.2,0.2,3.0]\n",
    "\n",
    "###The variance of the noise on the input data\n",
    "noise = [0.02 0.005]\n",
    "\n",
    "println(\"Simulation parameters defined successfully\")"
   ]
  },
  {
   "cell_type": "markdown",
   "metadata": {},
   "source": [
    "The following functions specify the function that holds the measurement data, the Ordinary Differential Equation of the FitzHugh-Nagumo model and a helper function to create the model."
   ]
  },
  {
   "cell_type": "code",
   "execution_count": null,
   "metadata": {
    "collapsed": false
   },
   "outputs": [],
   "source": [
    "###Make the data generation function available to the script\n",
    "include(\"../data/fitzhughnagumo.jl\")\n",
    "\n",
    "###Make the ode and model creation function available to the script\n",
    "include(\"../models/fitzhughnagumo.jl\")\n",
    "\n",
    "println(\"FitzHugh-Nagumo helper functions defined successfully\")"
   ]
  },
  {
   "cell_type": "markdown",
   "metadata": {},
   "source": [
    "Specify the model object from the parameters and helper function specified above"
   ]
  },
  {
   "cell_type": "code",
   "execution_count": null,
   "metadata": {
    "collapsed": false
   },
   "outputs": [],
   "source": [
    "###Create a FitzHugh-Nagumo model with measurement data and ODE function\n",
    "m = fitzhugh_nagumo_model(initialconditions,defaultparams,noise)\n",
    "\n",
    "figure(\"FitzHughNagumo-Data\")\n",
    "plot(m.timepoints,m.measurements[:,1];label=\"membrane potential\")\n",
    "plot(m.timepoints,m.measurements[:,2];label=\"refractory variable\")\n",
    "xlabel(\"Time\")\n",
    "ylabel(\"Amplitude\")\n",
    "title(\"FitzHugh-Nagumo measurement data\")\n",
    "grid(\"on\")\n",
    "legend(loc=\"upper right\",fancybox=\"true\")\n",
    "\n",
    "###Show the model\n",
    "println(\"==========================\")\n",
    "println(\"Model defined successfully\")\n",
    "println(\"==========================\")\n",
    "show(m)"
   ]
  },
  {
   "cell_type": "markdown",
   "metadata": {},
   "source": [
    "Now specify the sampler (a Metropolis-Hastings sampler with a Gaussian proposal density) and the runner to run a Generalized Metropolis-Hastings algorithm (remember that the choice between Standard and Generalized M-H is made by either setting nproposals to 1 or make it > 1)."
   ]
  },
  {
   "cell_type": "code",
   "execution_count": null,
   "metadata": {
    "collapsed": false
   },
   "outputs": [],
   "source": [
    "###Create a Metropolis sampler with a Normal proposal density\n",
    "s = MHNormal(eye(3),0.01)\n",
    "show(s)\n",
    "\n",
    "###Create a Generalized Metropolis-Hastings runner (which will default to Standard MH because nproposals == 1)\n",
    "###The values of the parameters will be initialized from the default values specified above\n",
    "r = GMHRunner(nsamples,nproposals;burnin = nburnin,initialize =ValuesFromDefault())\n",
    "show(r)"
   ]
  },
  {
   "cell_type": "markdown",
   "metadata": {},
   "source": [
    "Now run the simulation using the runner, the model and the sampler specified above. A printout will appear when the simulation is finished."
   ]
  },
  {
   "cell_type": "code",
   "execution_count": null,
   "metadata": {
    "collapsed": false
   },
   "outputs": [],
   "source": [
    "\n",
    "###Run the MCMC (can take quite a bit of time)\n",
    "c = run!(r,m,s)\n",
    "###Show the results of the simulations\n",
    "show(c)\n",
    "println(\"Results of the MCMC simulation:\")\n",
    "for i=1:3\n",
    "  println(\" parameter $(m.parameters.names[i]):  mean = \",mean(c.values[i,nburnin:end]),\" std = \",std(c.values[i,nburnin:end]))\n",
    "end"
   ]
  },
  {
   "cell_type": "code",
   "execution_count": null,
   "metadata": {
    "collapsed": false
   },
   "outputs": [],
   "source": [
    "###Plot the loglikelihood values across samples\n",
    "###After an initial few low values, this should remain relatively high\n",
    "figure(\"FitzHugh-Nagumo1-LL\")\n",
    "plot(1:length(c.loglikelihood),c.loglikelihood+c.logprior)\n",
    "title(\"Loglikelihood values across samples\")\n",
    "xlabel(\"Samples\")\n",
    "ylabel(\"loglikelihood - logprior\")"
   ]
  },
  {
   "cell_type": "code",
   "execution_count": null,
   "metadata": {
    "collapsed": false
   },
   "outputs": [],
   "source": [
    "###Plot the histograms of a,b,c values\n",
    "for i=1:3\n",
    "    subplot(220+i)\n",
    "  h = PyPlot.plt[:hist](c.values[i,:]',20)\n",
    "  grid(\"on\")\n",
    "  title(\"Parameter $(m.parameters.names[i])\")\n",
    "  xlabel(\"Values\")\n",
    "  ylabel(\"Samples\")\n",
    "end"
   ]
  },
  {
   "cell_type": "code",
   "execution_count": null,
   "metadata": {
    "collapsed": false
   },
   "outputs": [],
   "source": [
    "println(\"Number of processes running: \",nprocs())\n",
    "println(\"Number of workers running: \",nworkers())\n",
    "println(\"Process IDs: \",procs())"
   ]
  },
  {
   "cell_type": "code",
   "execution_count": null,
   "metadata": {
    "collapsed": false
   },
   "outputs": [],
   "source": [
    "###Only run this box if you want to shut down all worker processes\n",
    "println(\"Pre processes running: \",procs())\n",
    "for i in workers()\n",
    "    if i != 1\n",
    "        rmprocs(i)\n",
    "    end\n",
    "end\n",
    "println(\"Post processes running: \",procs())"
   ]
  },
  {
   "cell_type": "code",
   "execution_count": null,
   "metadata": {
    "collapsed": true
   },
   "outputs": [],
   "source": []
  }
 ],
 "metadata": {
  "kernelspec": {
   "display_name": "Julia 0.3.11",
   "language": "julia",
   "name": "julia-0.3"
  },
  "language_info": {
   "name": "julia",
   "version": "0.3.11"
  }
 },
 "nbformat": 4,
 "nbformat_minor": 0
}
